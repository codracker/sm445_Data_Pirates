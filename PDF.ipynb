{
 "cells": [
  {
   "cell_type": "code",
   "execution_count": 37,
   "metadata": {
    "scrolled": false
   },
   "outputs": [],
   "source": [
    "#pip install PyPDF2\n",
    "\n",
    "import PyPDF2\n",
    "\n",
    "read = PyPDF2.PdfFileReader(\"f1.pdf\",\"rb\")\n",
    "\n",
    "#multiple pages\n",
    "#n_page = read.getNumPages()\n",
    "#page = \"\"                \n",
    "#for number in range(n_page):\n",
    "#    pages = read.getPage(number)\n",
    "#    page += pages.extractText()     \n",
    "\n",
    "#single page extraction\n",
    "page = read.getPage(0).extractText()\n",
    "\n",
    "text = page.replace(\"\\n\",\"\")\n",
    "\n",
    "f = open('file.txt', 'w')\n",
    "f.write(page + '\\n' )\n",
    "f.close()"
   ]
  },
  {
   "cell_type": "code",
   "execution_count": 38,
   "metadata": {},
   "outputs": [],
   "source": [
    "#pip install PyMuPDF\n",
    "\n",
    "#Extraction results are better in PyMUPDF but model fails on multi page extraction text\n",
    "\n",
    "#import sys, fitz\n",
    "#file_name = 'f1.pdf'\n",
    "#doc = fitz.open(file_name)\n",
    "\n",
    "#text=\"\"\n",
    "#for page in doc:\n",
    "#    text = text + str(page.getText())\n",
    "\n",
    "#text = text.replace(\"\\n\",\"\")\n",
    "\n",
    "#f = open('file.txt', 'w')\n",
    "#f.write(text + '\\n')\n",
    "#f.close()"
   ]
  },
  {
   "cell_type": "code",
   "execution_count": 39,
   "metadata": {},
   "outputs": [
    {
     "name": "stdout",
     "output_type": "stream",
     "text": [
      " Tel: 91 44 25306789 Fax: 91 44 25341609 / 25340858 CIN: L24211TN1975PLC006989 Website: www.eidparry.com                                                                                                                                                   July 26, 2020 Listing Department National Stock Exchange of India Limited, Exchange Plaza, Plot No. Scrip Code: EIDPARRY  Listing Department BSE Limited Floor No:25, Phiroze Jeejeebhoy Towers, Dalal Street,  Mumbai  400 001. Scrip Code No: 500125                                 Dear Sir/Madam,  Sub: Certificate under Regulation 74(5) of the SEBI (Depositories and Participants) Regulations, 2018 for the quarter ended June 30, 2020. Please find enclosed the certificate issued by KFin Technologies Private Limited, the Registrars and Share Transfer Agent of the Company, as per Regulation 74(5) of the SEBI (Depositories and Participants) Regulations, 2018 for the quarter ended June 30, 2020.\n"
     ]
    }
   ],
   "source": [
    "import nltk \n",
    "from nltk.corpus import stopwords \n",
    "from nltk.tokenize import word_tokenize, sent_tokenize \n",
    "\n",
    "stop_words = set(stopwords.words(\"english\")) \n",
    "words = word_tokenize(text) \n",
    "\n",
    "freq_table = dict() \n",
    "for word in words: \n",
    "    word = word.lower() \n",
    "    if word in stop_words: \n",
    "        continue\n",
    "    if word in freq_table: \n",
    "        freq_table[word] += 1\n",
    "    else: \n",
    "        freq_table[word] = 1\n",
    "\n",
    "sentences = sent_tokenize(text) \n",
    "sentence_value = dict() \n",
    "\n",
    "for sentence in sentences: \n",
    "    for word, freq in freq_table.items(): \n",
    "        if word in sentence.lower(): \n",
    "            if sentence in sentence_value: \n",
    "                sentence_value[sentence] += freq \n",
    "            else: \n",
    "                sentence_value[sentence] = freq \n",
    "\n",
    "\n",
    "\n",
    "sum_values = 0\n",
    "for sentence in sentence_value: \n",
    "    sum_values += sentence_value[sentence] \n",
    "\n",
    "average = int(sum_values / len(sentence_value)) \n",
    "\n",
    "summary = '' \n",
    "for sentence in sentences: \n",
    "    if(sentence in sentence_value) and (sentence_value[sentence] > (1.2 * average)): \n",
    "        summary += \" \" + sentence \n",
    "print(summary)"
   ]
  },
  {
   "cell_type": "code",
   "execution_count": null,
   "metadata": {},
   "outputs": [],
   "source": []
  }
 ],
 "metadata": {
  "kernelspec": {
   "display_name": "Python 3",
   "language": "python",
   "name": "python3"
  },
  "language_info": {
   "codemirror_mode": {
    "name": "ipython",
    "version": 3
   },
   "file_extension": ".py",
   "mimetype": "text/x-python",
   "name": "python",
   "nbconvert_exporter": "python",
   "pygments_lexer": "ipython3",
   "version": "3.7.4"
  }
 },
 "nbformat": 4,
 "nbformat_minor": 2
}
